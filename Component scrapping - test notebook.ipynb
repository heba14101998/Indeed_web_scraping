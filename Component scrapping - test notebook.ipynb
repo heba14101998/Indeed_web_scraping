{
 "cells": [
  {
   "cell_type": "code",
   "execution_count": 15,
   "metadata": {},
   "outputs": [],
   "source": [
    "import requests\n",
    "import time \n",
    "import pandas as pd\n",
    "import bs4\n",
    "from bs4 import BeautifulSoup"
   ]
  },
  {
   "cell_type": "code",
   "execution_count": null,
   "metadata": {},
   "outputs": [],
   "source": [
    "URL = \"https://www.indeed.com/jobs?q=data+scientist%2420%2C000&l=New+York&start=10\"\n",
    "\n",
    "try:\n",
    "    response = requests.get(URL)\n",
    "    soup = BeautifulSoup(response.text, \"html.parser\")\n",
    "    title = soup.title.text\n",
    "    print(title)\n",
    "except:\n",
    "    print(\"Connection refused by the server..\")\n",
    "    print(\"Let me sleep for 2 seconds\")\n",
    "    time.sleep(2)\n",
    "    print(\"Continue...\")"
   ]
  },
  {
   "cell_type": "code",
   "execution_count": null,
   "metadata": {},
   "outputs": [],
   "source": [
    "soup.prettify()"
   ]
  },
  {
   "cell_type": "code",
   "execution_count": null,
   "metadata": {},
   "outputs": [],
   "source": [
    "with open('page.txt', 'wb') as f:\n",
    "    f.write(response.content)"
   ]
  },
  {
   "cell_type": "code",
   "execution_count": null,
   "metadata": {},
   "outputs": [],
   "source": [
    "with open('page.txt', 'rb') as f:\n",
    "    print (f.read())"
   ]
  },
  {
   "cell_type": "code",
   "execution_count": null,
   "metadata": {},
   "outputs": [],
   "source": [
    "with open('page.html', 'wb') as f:\n",
    "    f.write(response.content)"
   ]
  },
  {
   "cell_type": "code",
   "execution_count": null,
   "metadata": {},
   "outputs": [],
   "source": [
    "def extract_job_title(soup):\n",
    "    jobs = []\n",
    "\n",
    "    for spans in soup.select('h2.jobTitle span'):\n",
    "        \n",
    "        try:\n",
    "            job = spans['title']\n",
    "            jobs.append(job)\n",
    "#             print(jobs) \n",
    "        except:\n",
    "            pass\n",
    "            #print('fail')\n",
    "    \n",
    "    return jobs\n",
    "\n",
    "jobs = extract_job_title(soup)\n",
    "jobs"
   ]
  },
  {
   "cell_type": "code",
   "execution_count": null,
   "metadata": {},
   "outputs": [],
   "source": [
    "def extract_companyName(soup):\n",
    "    \n",
    "    companyName = []\n",
    "    comps  = soup.findAll(name = 'span', attrs={'class':'companyName'})\n",
    "    for comp in comps: \n",
    "        companyName.append(comp.text)\n",
    "        \n",
    "    return companyName\n",
    "\n",
    "companyNames = extract_companyName(soup)\n",
    "companyNames"
   ]
  },
  {
   "cell_type": "code",
   "execution_count": null,
   "metadata": {},
   "outputs": [],
   "source": [
    "def extract_companyLocation(soup):\n",
    "    \n",
    "    companyLocation = []\n",
    "    Locs  = soup.findAll(name = 'div', attrs={'class':'companyLocation'})\n",
    "    for loc in Locs: \n",
    "        companyLocation.append(loc.text)\n",
    "        \n",
    "    return companyLocation\n",
    "\n",
    "locations = extract_companyLocation(soup)\n",
    "locations"
   ]
  },
  {
   "cell_type": "code",
   "execution_count": null,
   "metadata": {},
   "outputs": [],
   "source": [
    "def extract_jobSalaries(soup):\n",
    "\n",
    "    salaries = []\n",
    "    for svgs in soup.findAll(name = 'div', attrs={'class':'heading6'}):\n",
    "        try:\n",
    "            salary = svgs.svg['aria-label']\n",
    "            \n",
    "            if salary.startswith(\"Estimated\"):\n",
    "                salary = salary.split(' ',1)[1]\n",
    "                salaries.append(salary)\n",
    "            else:\n",
    "                salary = svgs.text.split('F',1)[0]\n",
    "                salaries.append(salary)\n",
    "        except:\n",
    "            pass\n",
    "        \n",
    "    return salaries\n",
    "\n",
    "salaries = extract_jobSalaries(soup)\n",
    "salaries"
   ]
  },
  {
   "cell_type": "code",
   "execution_count": null,
   "metadata": {
    "scrolled": true
   },
   "outputs": [],
   "source": [
    "def extract_Summaries(soup):\n",
    "\n",
    "    Summaries = []\n",
    "    for S in soup.findAll(name = 'div', attrs={'class':'job-snippet'}):\n",
    "        summary = S.text.strip()\n",
    "        Summaries.append(summary)\n",
    "    return Summaries\n",
    "\n",
    "salaries = extract_Summaries(soup)\n",
    "salaries[1]"
   ]
  },
  {
   "cell_type": "markdown",
   "metadata": {},
   "source": [
    "## Mearge All Togethor"
   ]
  },
  {
   "cell_type": "code",
   "execution_count": 21,
   "metadata": {},
   "outputs": [],
   "source": [
    "max_results_per_city = 100\n",
    "city_list=['cairo']#,'Maadi']#,'Nasr%20City','Giza','Banha','Toukh','Qalyub']\n",
    "job_list =['data+scientist']#,data%20scientist','data%20science','data%20analyst','data%20analysis','data%20entry','data%20engineer','database','call%20center%20arabic']"
   ]
  },
  {
   "cell_type": "code",
   "execution_count": 22,
   "metadata": {
    "scrolled": true
   },
   "outputs": [
    {
     "data": {
      "text/html": [
       "<div>\n",
       "<style scoped>\n",
       "    .dataframe tbody tr th:only-of-type {\n",
       "        vertical-align: middle;\n",
       "    }\n",
       "\n",
       "    .dataframe tbody tr th {\n",
       "        vertical-align: top;\n",
       "    }\n",
       "\n",
       "    .dataframe thead th {\n",
       "        text-align: right;\n",
       "    }\n",
       "</style>\n",
       "<table border=\"1\" class=\"dataframe\">\n",
       "  <thead>\n",
       "    <tr style=\"text-align: right;\">\n",
       "      <th></th>\n",
       "      <th>city</th>\n",
       "      <th>job_field</th>\n",
       "      <th>job_title</th>\n",
       "      <th>compny_name</th>\n",
       "      <th>location</th>\n",
       "      <th>summary</th>\n",
       "      <th>salary</th>\n",
       "      <th>URL</th>\n",
       "    </tr>\n",
       "  </thead>\n",
       "  <tbody>\n",
       "  </tbody>\n",
       "</table>\n",
       "</div>"
      ],
      "text/plain": [
       "Empty DataFrame\n",
       "Columns: [city, job_field, job_title, compny_name, location, summary, salary, URL]\n",
       "Index: []"
      ]
     },
     "execution_count": 22,
     "metadata": {},
     "output_type": "execute_result"
    }
   ],
   "source": [
    "columns = ['city','job_field','job_title', 'compny_name','location', 'summary', 'salary','URL']\n",
    "sample_df = pd.DataFrame(columns = columns)\n",
    "sample_df"
   ]
  },
  {
   "cell_type": "code",
   "execution_count": 23,
   "metadata": {
    "scrolled": true
   },
   "outputs": [
    {
     "name": "stdout",
     "output_type": "stream",
     "text": [
      "http://eg.indeed.com/jobs?q=data+scientist&l=cairo \n",
      "\n",
      "finished data+scientist in cairo at 1.69 sec\n",
      "finish all cairo jobs at 1.70 sec\n",
      "total time: 0.03 min\n"
     ]
    }
   ],
   "source": [
    "start_time = time.time()\n",
    "\n",
    "for city in city_list:\n",
    "    time_per_city = time.time()\n",
    "    for job_field in job_list:\n",
    "        job_per_city = time.time()\n",
    "        #for start in range(0,max_results_per_city,15):\n",
    "        URL='http://eg.indeed.com/jobs?q='+str(job_field)+'&l=' + str(city)#+'&start='+str(start)\n",
    "        page = requests.get(URL)\n",
    "        time.sleep(1)  #ensuring at least 1 second between page grabs\n",
    "        soup = BeautifulSoup(page.text, \"html.parser\")\n",
    "\n",
    "        print(URL,'\\n')#,page.content)\n",
    "        with open('{} in {}.txt'.format(job_field,city), 'a') as f:\n",
    "            f.write('\\n'+URL+'\\n')\n",
    "\n",
    "        #with open('{} in {}.txt'.format(job_field,city), 'ab') as f:\n",
    "        #    f.write(page.content)\n",
    "\n",
    "        # All posted jobs in this field\n",
    "        for job in soup.findAll(name = 'div', attrs={'class':'job_seen_beacon'}):\n",
    "            job_per_city = time.time()\n",
    "            #specifying row num for index of job posting in dataframe\n",
    "            num = (len(sample_df) + 1) \n",
    "            #creating an empty list to hold the data for each posting job\n",
    "            job_post = [] \n",
    "            #append city name \n",
    "            job_post.append(city) \n",
    "            job_post.append(job_field) \n",
    "\n",
    "            #grabbing job title\n",
    "            for spans in job.select('h2.jobTitle span'):\n",
    "                try:\n",
    "                    job_title = spans['title']\n",
    "                    #print(job_title)\n",
    "                    job_post.append(job_title)\n",
    "                except:\n",
    "                    print('job title fail')\n",
    "\n",
    "            #grabbing company name\n",
    "            for comp in job.findAll(name = 'span', attrs={'class':'companyName'}):\n",
    "                job_post.append(comp.text)\n",
    "\n",
    "            #grabbing location name\n",
    "            for loc in job.findAll(name = 'div', attrs={'class':'companyLocation'}): \n",
    "                job_post.append(loc.text)\n",
    "\n",
    "            #grabbing summary text\n",
    "            for S in job.findAll(name = 'div', attrs={'class':'job-snippet'}):\n",
    "                job_post.append(S.text.strip())\n",
    "\n",
    "            #grabbing salary\n",
    "            for svgs in job.findAll(name = 'div', attrs={'class':'heading6'}):\n",
    "                try:\n",
    "                    salary = svgs.svg['aria-label']\n",
    "\n",
    "                    if salary.startswith(\"Estimated\"):\n",
    "                        salary = salary.split(' ',1)[1]\n",
    "                        job_post.append(salary)\n",
    "                    else:\n",
    "                        salary = svgs.text.split('F',1)[0]\n",
    "                        job_post.append(salary)\n",
    "                except:\n",
    "                    #pass\n",
    "                    job_post.append('Not_found')\n",
    "                    break\n",
    "                    #print('salary fail')\n",
    "\n",
    "            #appending list of job post info to dataframe at index num\n",
    "            job_post.append(URL)\n",
    "            print(job_post)\n",
    "            sample_df.loc[num] = job_post\n",
    "\n",
    "        print('finished {} in {} at {:.2f} sec'.format(job_field, city, (time.time() - job_per_city)))\n",
    "\n",
    "    print('finish all {} jobs at {:.2f} sec'.format(city ,(time.time() - time_per_city)))\n",
    "\n",
    "print ('total time: {:.2f} min'.format((time.time() - start_time)/60))"
   ]
  },
  {
   "cell_type": "code",
   "execution_count": null,
   "metadata": {
    "scrolled": false
   },
   "outputs": [],
   "source": [
    "sample_df['job_title'].unique()#.groupby(['city']).count()"
   ]
  },
  {
   "cell_type": "code",
   "execution_count": null,
   "metadata": {},
   "outputs": [],
   "source": [
    "#saving sample_df as a local csv file — define your own local path to save contents \n",
    "\n",
    "sample_df.to_csv('myJobs.csv', encoding='utf-8')"
   ]
  },
  {
   "cell_type": "code",
   "execution_count": null,
   "metadata": {},
   "outputs": [],
   "source": []
  }
 ],
 "metadata": {
  "kernelspec": {
   "display_name": "Python 3",
   "language": "python",
   "name": "python3"
  },
  "language_info": {
   "codemirror_mode": {
    "name": "ipython",
    "version": 3
   },
   "file_extension": ".py",
   "mimetype": "text/x-python",
   "name": "python",
   "nbconvert_exporter": "python",
   "pygments_lexer": "ipython3",
   "version": "3.8.5"
  }
 },
 "nbformat": 4,
 "nbformat_minor": 4
}
