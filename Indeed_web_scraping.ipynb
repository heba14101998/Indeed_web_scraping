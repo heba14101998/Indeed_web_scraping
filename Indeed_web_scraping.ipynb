{
  "cells": [
    {
      "cell_type": "code",
      "execution_count": 1,
      "metadata": {
        "id": "NDAMERedFNR6"
      },
      "outputs": [],
      "source": [
        "import requests\n",
        "import time \n",
        "import pandas as pd\n",
        "import bs4\n",
        "from bs4 import BeautifulSoup\n",
        "\n",
        "from time import sleep\n",
        "from tqdm import tqdm"
      ]
    },
    {
      "cell_type": "code",
      "execution_count": 2,
      "metadata": {
        "id": "ooSmHpQ3FOYX"
      },
      "outputs": [],
      "source": [
        "locations=['cairo','Banha','Maadi','Nasr+City','Giza','Toukh','Qalyub']\n",
        "postions =['Python+developer','data+scientist','data+science','data+analyst','data+analysis','data+entry','data+engineer','database']\n",
        "pages = list(range(0,110,10))"
      ]
    },
    {
      "cell_type": "code",
      "execution_count": 3,
      "metadata": {
        "id": "nAlvwsscT1GN"
      },
      "outputs": [],
      "source": [
        "def extract(loc, pos, page):\n",
        "\n",
        "  URL='http://eg.indeed.com/jobs?q='+str(pos)+'&l=' + str(loc)+'&start='+str(page)+'&sort=date'\n",
        "  response = requests.get(URL)\n",
        "  soup = BeautifulSoup(response.text,'lxml')\n",
        "  return soup, URL"
      ]
    },
    {
      "cell_type": "code",
      "execution_count": 4,
      "metadata": {
        "id": "zhouLHqaVmpg"
      },
      "outputs": [],
      "source": [
        "\n",
        "def company_posts(soup):\n",
        "  jobs = []\n",
        "  for i in soup.find_all('a',{'class':\"tapItem\"}):\n",
        "\n",
        "    for spans in i.select('h2.jobTitle span'):\n",
        "      try:\n",
        "        job_title = spans['title']\n",
        "      except:\n",
        "        pass\n",
        "    \n",
        "    location = i.find('div', {'class': 'companyLocation'}).text.strip()\n",
        "    company_name = i.find(('a', {'data-tn-element': 'companyName'})).text.strip()    \n",
        "    post_date = i.find('span',{'class':'date'}).text.strip().split('d')[-1]\n",
        "    summary = i.find('div',{'class':'job-snippet'}).text.strip()\n",
        "    \n",
        "    p = i.find(href=True)\n",
        "    v = p['href']\n",
        "    f=str(v).replace('&amp','&')\n",
        "    link= str('http://eg.indeed.com' + str(f)) \n",
        "\n",
        "    job = {'job_title':job_title,\n",
        "            'location':location,\n",
        "            'compny_name':company_name, \n",
        "            'post_date':post_date,\n",
        "            'summary':summary,\n",
        "            'Qualification_link':link\n",
        "            }\n",
        "    jobs.append(job)\n",
        "    \n",
        "  return jobs"
      ]
    },
    {
      "cell_type": "code",
      "execution_count": 5,
      "metadata": {
        "id": "0Sc7SzHmUZaC",
        "colab": {
          "base_uri": "https://localhost:8080/"
        },
        "outputId": "905cb039-090d-4158-80ac-27515f753905"
      },
      "outputs": [
        {
          "output_type": "stream",
          "name": "stderr",
          "text": [
            "100%|██████████| 11/11 [04:00<00:00, 21.91s/it]"
          ]
        },
        {
          "output_type": "stream",
          "name": "stdout",
          "text": [
            "\n",
            "The process taks 241.00 sec\n"
          ]
        },
        {
          "output_type": "stream",
          "name": "stderr",
          "text": [
            "\n"
          ]
        }
      ],
      "source": [
        "start_time = time.time()\n",
        "df_list = []\n",
        "for page in tqdm(pages):\n",
        "  for loc in locations:\n",
        "    for pos in postions:\n",
        "      mysoup,URL = extract(loc,pos, page)\n",
        "      #print(mysoup)\n",
        "      jobs= company_posts(mysoup)\n",
        "      df = pd.DataFrame(jobs)\n",
        "      #print(df)\n",
        "      df_list.append(df)\n",
        "      #print(df_list)\n",
        "print( '\\nThe process taks {:.2f} sec'.format( (time.time() - start_time)) )"
      ]
    },
    {
      "cell_type": "code",
      "execution_count": 7,
      "metadata": {
        "id": "TzIuiq8Ju7Ol"
      },
      "outputs": [],
      "source": [
        "mydf=pd.concat(df_list,ignore_index=True )"
      ]
    },
    {
      "cell_type": "code",
      "execution_count": 10,
      "metadata": {
        "id": "DCPo-jbz9IY3"
      },
      "outputs": [],
      "source": [
        "mydf.to_csv('indeed-jobs-egypt')"
      ]
    },
    {
      "cell_type": "code",
      "source": [
        "df = pd.read_csv('indeed-jobs-egypt')\n",
        "df"
      ],
      "metadata": {
        "colab": {
          "base_uri": "https://localhost:8080/",
          "height": 832
        },
        "id": "wWO9QiMqEbHu",
        "outputId": "b04c594a-c1dc-496d-9912-2881e6e1eede"
      },
      "execution_count": 11,
      "outputs": [
        {
          "output_type": "execute_result",
          "data": {
            "text/html": [
              "\n",
              "  <div id=\"df-7c48bd32-2d0f-4793-865d-e5729f3c1e6b\">\n",
              "    <div class=\"colab-df-container\">\n",
              "      <div>\n",
              "<style scoped>\n",
              "    .dataframe tbody tr th:only-of-type {\n",
              "        vertical-align: middle;\n",
              "    }\n",
              "\n",
              "    .dataframe tbody tr th {\n",
              "        vertical-align: top;\n",
              "    }\n",
              "\n",
              "    .dataframe thead th {\n",
              "        text-align: right;\n",
              "    }\n",
              "</style>\n",
              "<table border=\"1\" class=\"dataframe\">\n",
              "  <thead>\n",
              "    <tr style=\"text-align: right;\">\n",
              "      <th></th>\n",
              "      <th>Unnamed: 0</th>\n",
              "      <th>job_title</th>\n",
              "      <th>location</th>\n",
              "      <th>compny_name</th>\n",
              "      <th>post_date</th>\n",
              "      <th>summary</th>\n",
              "      <th>Qualification_link</th>\n",
              "    </tr>\n",
              "  </thead>\n",
              "  <tbody>\n",
              "    <tr>\n",
              "      <th>0</th>\n",
              "      <td>0</td>\n",
              "      <td>Linux Developer Experience Lead</td>\n",
              "      <td>القاهرة</td>\n",
              "      <td>وظائف Canonical - Jobs</td>\n",
              "      <td>اليوم</td>\n",
              "      <td>In this new initiative, we want to raise the b...</td>\n",
              "      <td>http://eg.indeed.com/%D9%88%D8%B8%D8%A7%D8%A6%...</td>\n",
              "    </tr>\n",
              "    <tr>\n",
              "      <th>1</th>\n",
              "      <td>1</td>\n",
              "      <td>VP, Software Engineering</td>\n",
              "      <td>القاهرة</td>\n",
              "      <td>وظائف Canonical - Jobs</td>\n",
              "      <td>اليوم</td>\n",
              "      <td>Our online services, including our systems man...</td>\n",
              "      <td>http://eg.indeed.com/%D9%88%D8%B8%D8%A7%D8%A6%...</td>\n",
              "    </tr>\n",
              "    <tr>\n",
              "      <th>2</th>\n",
              "      <td>2</td>\n",
              "      <td>Senior Software Developer (MEAN/MERN)</td>\n",
              "      <td>القاهرة</td>\n",
              "      <td>Schneider Electric</td>\n",
              "      <td>منذ يوم 1</td>\n",
              "      <td>In this role, you will be responsible for over...</td>\n",
              "      <td>http://eg.indeed.com/cmp/Schneider-Electric</td>\n",
              "    </tr>\n",
              "    <tr>\n",
              "      <th>3</th>\n",
              "      <td>3</td>\n",
              "      <td>Senior C++ SW Developer</td>\n",
              "      <td>القاهرة</td>\n",
              "      <td>وظائف Luxoft</td>\n",
              "      <td>منذ 13 يوم</td>\n",
              "      <td>The project life-cycle is covering all the sta...</td>\n",
              "      <td>http://eg.indeed.com/%D9%88%D8%B8%D8%A7%D8%A6%...</td>\n",
              "    </tr>\n",
              "    <tr>\n",
              "      <th>4</th>\n",
              "      <td>4</td>\n",
              "      <td>Software Engineer, Cloud Integrations, Commerc...</td>\n",
              "      <td>القاهرة</td>\n",
              "      <td>وظائف Canonical - Jobs</td>\n",
              "      <td>منذ 12 يوم</td>\n",
              "      <td>5+ years of experience as a software developer...</td>\n",
              "      <td>http://eg.indeed.com/%D9%88%D8%B8%D8%A7%D8%A6%...</td>\n",
              "    </tr>\n",
              "    <tr>\n",
              "      <th>...</th>\n",
              "      <td>...</td>\n",
              "      <td>...</td>\n",
              "      <td>...</td>\n",
              "      <td>...</td>\n",
              "      <td>...</td>\n",
              "      <td>...</td>\n",
              "      <td>...</td>\n",
              "    </tr>\n",
              "    <tr>\n",
              "      <th>2281</th>\n",
              "      <td>2281</td>\n",
              "      <td>Senior Data Scientist</td>\n",
              "      <td>القاهرة</td>\n",
              "      <td>Careem</td>\n",
              "      <td>منذ 198 يوم</td>\n",
              "      <td>Experience mentoring other data scientists.\\n5...</td>\n",
              "      <td>http://eg.indeed.com/cmp/Careem</td>\n",
              "    </tr>\n",
              "    <tr>\n",
              "      <th>2282</th>\n",
              "      <td>2282</td>\n",
              "      <td>Data Scientist</td>\n",
              "      <td>القاهرة</td>\n",
              "      <td>وظائف CyShield</td>\n",
              "      <td>منذ 243 يوم</td>\n",
              "      <td>Collating and cleaning data from various entit...</td>\n",
              "      <td>http://eg.indeed.com/%D9%88%D8%B8%D8%A7%D8%A6%...</td>\n",
              "    </tr>\n",
              "    <tr>\n",
              "      <th>2283</th>\n",
              "      <td>2283</td>\n",
              "      <td>Performance Management Analyst</td>\n",
              "      <td>القاهرة</td>\n",
              "      <td>وظائف Talabat</td>\n",
              "      <td>منذ 246 يوم</td>\n",
              "      <td>Take full ownership and create data-driven ins...</td>\n",
              "      <td>http://eg.indeed.com/%D9%88%D8%B8%D8%A7%D8%A6%...</td>\n",
              "    </tr>\n",
              "    <tr>\n",
              "      <th>2284</th>\n",
              "      <td>2284</td>\n",
              "      <td>Sr. Analyst Performance Management</td>\n",
              "      <td>القاهرة</td>\n",
              "      <td>وظائف Talabat</td>\n",
              "      <td>منذ 246 يوم</td>\n",
              "      <td>Take full ownership and create data-driven ins...</td>\n",
              "      <td>http://eg.indeed.com/%D9%88%D8%B8%D8%A7%D8%A6%...</td>\n",
              "    </tr>\n",
              "    <tr>\n",
              "      <th>2285</th>\n",
              "      <td>2285</td>\n",
              "      <td>HR &amp; Talent Manager (based in Cairo, Egypt)</td>\n",
              "      <td>القاهرة</td>\n",
              "      <td>وظائف Black Pearl Consult</td>\n",
              "      <td>منذ 364 يوم</td>\n",
              "      <td>Assisted hiring managers with developing solut...</td>\n",
              "      <td>http://eg.indeed.com/%D9%88%D8%B8%D8%A7%D8%A6%...</td>\n",
              "    </tr>\n",
              "  </tbody>\n",
              "</table>\n",
              "<p>2286 rows × 7 columns</p>\n",
              "</div>\n",
              "      <button class=\"colab-df-convert\" onclick=\"convertToInteractive('df-7c48bd32-2d0f-4793-865d-e5729f3c1e6b')\"\n",
              "              title=\"Convert this dataframe to an interactive table.\"\n",
              "              style=\"display:none;\">\n",
              "        \n",
              "  <svg xmlns=\"http://www.w3.org/2000/svg\" height=\"24px\"viewBox=\"0 0 24 24\"\n",
              "       width=\"24px\">\n",
              "    <path d=\"M0 0h24v24H0V0z\" fill=\"none\"/>\n",
              "    <path d=\"M18.56 5.44l.94 2.06.94-2.06 2.06-.94-2.06-.94-.94-2.06-.94 2.06-2.06.94zm-11 1L8.5 8.5l.94-2.06 2.06-.94-2.06-.94L8.5 2.5l-.94 2.06-2.06.94zm10 10l.94 2.06.94-2.06 2.06-.94-2.06-.94-.94-2.06-.94 2.06-2.06.94z\"/><path d=\"M17.41 7.96l-1.37-1.37c-.4-.4-.92-.59-1.43-.59-.52 0-1.04.2-1.43.59L10.3 9.45l-7.72 7.72c-.78.78-.78 2.05 0 2.83L4 21.41c.39.39.9.59 1.41.59.51 0 1.02-.2 1.41-.59l7.78-7.78 2.81-2.81c.8-.78.8-2.07 0-2.86zM5.41 20L4 18.59l7.72-7.72 1.47 1.35L5.41 20z\"/>\n",
              "  </svg>\n",
              "      </button>\n",
              "      \n",
              "  <style>\n",
              "    .colab-df-container {\n",
              "      display:flex;\n",
              "      flex-wrap:wrap;\n",
              "      gap: 12px;\n",
              "    }\n",
              "\n",
              "    .colab-df-convert {\n",
              "      background-color: #E8F0FE;\n",
              "      border: none;\n",
              "      border-radius: 50%;\n",
              "      cursor: pointer;\n",
              "      display: none;\n",
              "      fill: #1967D2;\n",
              "      height: 32px;\n",
              "      padding: 0 0 0 0;\n",
              "      width: 32px;\n",
              "    }\n",
              "\n",
              "    .colab-df-convert:hover {\n",
              "      background-color: #E2EBFA;\n",
              "      box-shadow: 0px 1px 2px rgba(60, 64, 67, 0.3), 0px 1px 3px 1px rgba(60, 64, 67, 0.15);\n",
              "      fill: #174EA6;\n",
              "    }\n",
              "\n",
              "    [theme=dark] .colab-df-convert {\n",
              "      background-color: #3B4455;\n",
              "      fill: #D2E3FC;\n",
              "    }\n",
              "\n",
              "    [theme=dark] .colab-df-convert:hover {\n",
              "      background-color: #434B5C;\n",
              "      box-shadow: 0px 1px 3px 1px rgba(0, 0, 0, 0.15);\n",
              "      filter: drop-shadow(0px 1px 2px rgba(0, 0, 0, 0.3));\n",
              "      fill: #FFFFFF;\n",
              "    }\n",
              "  </style>\n",
              "\n",
              "      <script>\n",
              "        const buttonEl =\n",
              "          document.querySelector('#df-7c48bd32-2d0f-4793-865d-e5729f3c1e6b button.colab-df-convert');\n",
              "        buttonEl.style.display =\n",
              "          google.colab.kernel.accessAllowed ? 'block' : 'none';\n",
              "\n",
              "        async function convertToInteractive(key) {\n",
              "          const element = document.querySelector('#df-7c48bd32-2d0f-4793-865d-e5729f3c1e6b');\n",
              "          const dataTable =\n",
              "            await google.colab.kernel.invokeFunction('convertToInteractive',\n",
              "                                                     [key], {});\n",
              "          if (!dataTable) return;\n",
              "\n",
              "          const docLinkHtml = 'Like what you see? Visit the ' +\n",
              "            '<a target=\"_blank\" href=https://colab.research.google.com/notebooks/data_table.ipynb>data table notebook</a>'\n",
              "            + ' to learn more about interactive tables.';\n",
              "          element.innerHTML = '';\n",
              "          dataTable['output_type'] = 'display_data';\n",
              "          await google.colab.output.renderOutput(dataTable, element);\n",
              "          const docLink = document.createElement('div');\n",
              "          docLink.innerHTML = docLinkHtml;\n",
              "          element.appendChild(docLink);\n",
              "        }\n",
              "      </script>\n",
              "    </div>\n",
              "  </div>\n",
              "  "
            ],
            "text/plain": [
              "      Unnamed: 0  ...                                 Qualification_link\n",
              "0              0  ...  http://eg.indeed.com/%D9%88%D8%B8%D8%A7%D8%A6%...\n",
              "1              1  ...  http://eg.indeed.com/%D9%88%D8%B8%D8%A7%D8%A6%...\n",
              "2              2  ...        http://eg.indeed.com/cmp/Schneider-Electric\n",
              "3              3  ...  http://eg.indeed.com/%D9%88%D8%B8%D8%A7%D8%A6%...\n",
              "4              4  ...  http://eg.indeed.com/%D9%88%D8%B8%D8%A7%D8%A6%...\n",
              "...          ...  ...                                                ...\n",
              "2281        2281  ...                    http://eg.indeed.com/cmp/Careem\n",
              "2282        2282  ...  http://eg.indeed.com/%D9%88%D8%B8%D8%A7%D8%A6%...\n",
              "2283        2283  ...  http://eg.indeed.com/%D9%88%D8%B8%D8%A7%D8%A6%...\n",
              "2284        2284  ...  http://eg.indeed.com/%D9%88%D8%B8%D8%A7%D8%A6%...\n",
              "2285        2285  ...  http://eg.indeed.com/%D9%88%D8%B8%D8%A7%D8%A6%...\n",
              "\n",
              "[2286 rows x 7 columns]"
            ]
          },
          "metadata": {},
          "execution_count": 11
        }
      ]
    },
    {
      "cell_type": "code",
      "source": [
        ""
      ],
      "metadata": {
        "id": "ZpODRtumGQGd"
      },
      "execution_count": 9,
      "outputs": []
    }
  ],
  "metadata": {
    "colab": {
      "collapsed_sections": [],
      "name": "Indeed_web_scraping.ipynb",
      "provenance": []
    },
    "kernelspec": {
      "display_name": "Python 3",
      "name": "python3"
    },
    "language_info": {
      "name": "python"
    },
    "accelerator": "GPU"
  },
  "nbformat": 4,
  "nbformat_minor": 0
}